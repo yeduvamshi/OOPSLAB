{
  "nbformat": 4,
  "nbformat_minor": 0,
  "metadata": {
    "colab": {
      "provenance": [],
      "toc_visible": true
    },
    "kernelspec": {
      "name": "python3",
      "display_name": "Python 3"
    },
    "language_info": {
      "name": "python"
    }
  },
  "cells": [
    {
      "cell_type": "code",
      "execution_count": null,
      "metadata": {
        "colab": {
          "base_uri": "https://localhost:8080/"
        },
        "id": "tU1RFOLz5Krx",
        "outputId": "ae38fc94-7956-4435-87b4-45376255ee87"
      },
      "outputs": [
        {
          "output_type": "stream",
          "name": "stdout",
          "text": [
            "The largest element in the list is: 10\n"
          ]
        }
      ],
      "source": [
        "def find_largest_element(lst):\n",
        "    if not lst:\n",
        "        return None\n",
        "    else:\n",
        "        return max(lst)\n",
        "\n",
        "numbers = [3, 8, 2, 10, 5]\n",
        "result = find_largest_element(numbers)\n",
        "print(f\"The largest element in the list is: {result}\")\n"
      ]
    },
    {
      "cell_type": "code",
      "source": [
        "import math\n",
        "\n",
        "def hexagon_area(side_length):\n",
        "    return (3 * math.sqrt(3) * (side_length ** 2)) / 2\n",
        "\n",
        "side_length = 4\n",
        "area = hexagon_area(side_length)\n",
        "print(f\"The area of the hexagon with side length {side_length} is: {area}\")\n"
      ],
      "metadata": {
        "colab": {
          "base_uri": "https://localhost:8080/"
        },
        "id": "vqUNP5Qn9xeJ",
        "outputId": "f7fefb42-2429-4527-fe55-6bafeee856ea"
      },
      "execution_count": null,
      "outputs": [
        {
          "output_type": "stream",
          "name": "stdout",
          "text": [
            "The area of the hexagon with side length 4 is: 41.569219381653056\n"
          ]
        }
      ]
    },
    {
      "cell_type": "code",
      "source": [
        "import re\n",
        "\n",
        "def is_valid_email(email):\n",
        "    pattern = r'^[a-zA-Z0-9](.?[a-zA-Z0-9]){0,}@([a-zA-Z0-9]+(-[a-zA-Z0-9]+)?.)+[a-zA-Z]{2,}$'\n",
        "    return bool(re.match(pattern, email))\n",
        "\n",
        "# Example usage:\n",
        "email = \"example@email.com\"\n",
        "validity = is_valid_email(email)\n",
        "print(f\"Is the email '{email}' valid? {validity}\")\n"
      ],
      "metadata": {
        "colab": {
          "base_uri": "https://localhost:8080/"
        },
        "id": "b_xtYLeq_ajJ",
        "outputId": "13975288-aede-4f39-a8a4-19abf5831444"
      },
      "execution_count": null,
      "outputs": [
        {
          "output_type": "stream",
          "name": "stdout",
          "text": [
            "Is the email 'example@email.com' valid? True\n"
          ]
        }
      ]
    },
    {
      "cell_type": "code",
      "source": [
        "def encrypt(text, shift):\n",
        "    result = \"\"\n",
        "    for char in text:\n",
        "        if char.isalpha():\n",
        "            shifted_char = chr((ord(char) + shift - ord('A') if char.isupper() else ord(char) + shift - ord('a')) % 26 + (ord('A') if char.isupper() else ord('a')))\n",
        "            result += shifted_char\n",
        "        else:\n",
        "            result += char\n",
        "    return result\n",
        "\n",
        "def decrypt(encrypted_text, shift):\n",
        "    return encrypt(encrypted_text, -shift)\n",
        "\n",
        "# Example usage:\n",
        "text = \"Hello World\"\n",
        "shift_value = 3\n",
        "\n",
        "encrypted_text = encrypt(text, shift_value)\n",
        "print(f\"Encrypted text: {encrypted_text}\")\n",
        "\n",
        "decrypted_text = decrypt(encrypted_text, shift_value)\n",
        "print(f\"Decrypted text: {decrypted_text}\")\n"
      ],
      "metadata": {
        "colab": {
          "base_uri": "https://localhost:8080/"
        },
        "id": "pueEprkWEuFo",
        "outputId": "889b4ca2-259b-478c-e6a9-7e4efd0ef93c"
      },
      "execution_count": 4,
      "outputs": [
        {
          "output_type": "stream",
          "name": "stdout",
          "text": [
            "Encrypted text: Khoor Zruog\n",
            "Decrypted text: Hello World\n"
          ]
        }
      ]
    },
    {
      "cell_type": "code",
      "source": [
        "def is_palindrome(word):\n",
        "    return word == word[::-1]\n",
        "\n",
        "def get_palindromes(text):\n",
        "    words = text.split()\n",
        "    return [word for word in words if is_palindrome(word)]\n",
        "\n",
        "# Example usage:\n",
        "input_text = \"level civic radar python madam kayak\"\n",
        "palindromes = get_palindromes(input_text)\n",
        "print(f\"Palindromes in the string: {palindromes}\")\n"
      ],
      "metadata": {
        "colab": {
          "base_uri": "https://localhost:8080/"
        },
        "id": "J9bW_vp5EzuI",
        "outputId": "553733c6-0b13-4c28-fc2d-9f69bc2c21ea"
      },
      "execution_count": 5,
      "outputs": [
        {
          "output_type": "stream",
          "name": "stdout",
          "text": [
            "Palindromes in the string: ['level', 'civic', 'radar', 'madam', 'kayak']\n"
          ]
        }
      ]
    }
  ]
}